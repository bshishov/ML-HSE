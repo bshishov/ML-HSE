{
 "cells": [
  {
   "cell_type": "code",
   "execution_count": 71,
   "metadata": {
    "collapsed": true
   },
   "outputs": [],
   "source": [
    "%matplotlib inline\n",
    "\n",
    "import numpy as np\n",
    "import pandas\n",
    "import matplotlib.pyplot as plt\n",
    "from sklearn.linear_model import Perceptron\n",
    "from sklearn.preprocessing import StandardScaler\n",
    "from sklearn.metrics import accuracy_score"
   ]
  },
  {
   "cell_type": "code",
   "execution_count": 82,
   "metadata": {
    "collapsed": false
   },
   "outputs": [],
   "source": [
    "# CSV файлы не содержат строки с названием колонок, поэтому указываем header=None\n",
    "data_train = pandas.read_csv('perceptron-train.csv', header=None) # файлик, который весит 10кб\n",
    "data_test = pandas.read_csv('perceptron-test.csv', header=None) # файлик, который весит 7 кб\n",
    "\n",
    "# Данные для обучения. \".values\" - преобразовывает их из табличной формы в привычные Numpy массивы\n",
    "X_train = data_train.loc[:,1:].values # X - признаки, это 2я и 3я колонка (берем столбцы начиная с индекса 1)\n",
    "Y_train = data_train.loc[:,0].values # Y - класс - в первой колонке (индекс столбца 0)\n",
    "\n",
    "# Аналогично для проверочных данных\n",
    "X_test = data_test.loc[:,1:].values\n",
    "Y_test = data_test.loc[:,0].values"
   ]
  },
  {
   "cell_type": "code",
   "execution_count": 83,
   "metadata": {
    "collapsed": false
   },
   "outputs": [],
   "source": [
    "# UNSCALED\n",
    "clf = Perceptron(random_state=241)\n",
    "clf.fit(X_train, Y_train)\n",
    "predictions = clf.predict(X_test)\n",
    "unscaled_score = accuracy_score(Y_test, predictions)"
   ]
  },
  {
   "cell_type": "code",
   "execution_count": 84,
   "metadata": {
    "collapsed": false
   },
   "outputs": [],
   "source": [
    "# SCALED\n",
    "scaler = StandardScaler()\n",
    "X_train_scaled = scaler.fit_transform(X_train)\n",
    "X_test_scaled = scaler.transform(X_test)\n",
    "\n",
    "clf = Perceptron(random_state=241)\n",
    "clf.fit(X_train_scaled, Y_train)\n",
    "predictions = clf.predict(X_test_scaled)\n",
    "scaled_score = accuracy_score(Y_test, predictions)"
   ]
  },
  {
   "cell_type": "code",
   "execution_count": 85,
   "metadata": {
    "collapsed": false
   },
   "outputs": [
    {
     "data": {
      "text/plain": [
       "0.18999999999999995"
      ]
     },
     "execution_count": 85,
     "metadata": {},
     "output_type": "execute_result"
    }
   ],
   "source": [
    "scaled_score - unscaled_score"
   ]
  },
  {
   "cell_type": "code",
   "execution_count": null,
   "metadata": {
    "collapsed": true
   },
   "outputs": [],
   "source": []
  }
 ],
 "metadata": {
  "kernelspec": {
   "display_name": "Python 3",
   "language": "python",
   "name": "python3"
  },
  "language_info": {
   "codemirror_mode": {
    "name": "ipython",
    "version": 3
   },
   "file_extension": ".py",
   "mimetype": "text/x-python",
   "name": "python",
   "nbconvert_exporter": "python",
   "pygments_lexer": "ipython3",
   "version": "3.5.1"
  }
 },
 "nbformat": 4,
 "nbformat_minor": 0
}
