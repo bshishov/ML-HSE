{
 "cells": [
  {
   "cell_type": "code",
   "execution_count": 164,
   "metadata": {
    "collapsed": false
   },
   "outputs": [
    {
     "name": "stdout",
     "output_type": "stream",
     "text": [
      "200\n"
     ]
    },
    {
     "data": {
      "text/plain": [
       "'43 34 59 64'"
      ]
     },
     "execution_count": 164,
     "metadata": {},
     "output_type": "execute_result"
    }
   ],
   "source": [
    "import numpy as np\n",
    "import pandas as pd\n",
    "\n",
    "data = pd.read_csv('classification.csv')\n",
    "tp = data.ix[(data.true == 1) & (data.pred == 1)].shape[0]\n",
    "fp = data.ix[(data.true == 0) & (data.pred == 1)].shape[0]\n",
    "fn = data.ix[(data.true == 1) & (data.pred == 0)].shape[0]\n",
    "tn = data.ix[(data.true == 0) & (data.pred == 0)].shape[0]\n",
    "print(sum([tp, fp, fn, tn]))\n",
    "ans = \" \".join([str(x) for x in [tp, fp, fn, tn]])\n",
    "with open('q1.txt', 'w') as f:\n",
    "    f.write(ans)\n",
    "ans"
   ]
  },
  {
   "cell_type": "code",
   "execution_count": 156,
   "metadata": {
    "collapsed": false
   },
   "outputs": [
    {
     "data": {
      "text/plain": [
       "'0.54 0.56 0.42 0.48'"
      ]
     },
     "execution_count": 156,
     "metadata": {},
     "output_type": "execute_result"
    }
   ],
   "source": [
    "from sklearn.metrics import accuracy_score, recall_score, f1_score, precision_score\n",
    "\n",
    "ans2 = [accuracy_score(data.true, data.pred),\n",
    "        precision_score(data.true, data.pred),\n",
    "        recall_score(data.true, data.pred),\n",
    "        f1_score(data.true, data.pred)]\n",
    "ans2 =  \" \".join([\"%0.2f\" % x for x in ans2])\n",
    "with open('q2.txt', 'w') as f:\n",
    "    f.write(ans2)\n",
    "ans2"
   ]
  },
  {
   "cell_type": "code",
   "execution_count": 89,
   "metadata": {
    "collapsed": false
   },
   "outputs": [
    {
     "data": {
      "text/plain": [
       "'score_logreg'"
      ]
     },
     "execution_count": 89,
     "metadata": {},
     "output_type": "execute_result"
    }
   ],
   "source": [
    "from sklearn.metrics import roc_auc_score\n",
    "\n",
    "scores = pd.read_csv('scores.csv')\n",
    "\n",
    "clf_scores = [roc_auc_score(scores.true, scores.score_logreg),\n",
    "              roc_auc_score(scores.true, scores.score_svm),\n",
    "              roc_auc_score(scores.true, scores.score_knn),\n",
    "              roc_auc_score(scores.true, scores.score_tree)]    \n",
    "ans3 = scores.columns[np.argmax(clf_scores) + 1]\n",
    "with open('q3.txt', 'w') as f:\n",
    "    f.write(ans3)    \n",
    "ans3"
   ]
  },
  {
   "cell_type": "code",
   "execution_count": 153,
   "metadata": {
    "collapsed": false
   },
   "outputs": [
    {
     "name": "stdout",
     "output_type": "stream",
     "text": [
      "198 198 197\n",
      "[ 0.6302521   0.76530612  0.488522  ]\n",
      "200 200 199\n",
      "[ 0.62280702  0.7244898  -0.12354033]\n",
      "105 105 104\n",
      "[ 0.60655738  0.75510204  0.3193345 ]\n",
      "13 13 12\n",
      "[ 0.65178571  0.74489796  0.4       ]\n"
     ]
    },
    {
     "data": {
      "text/plain": [
       "'score_tree'"
      ]
     },
     "execution_count": 153,
     "metadata": {},
     "output_type": "execute_result"
    }
   ],
   "source": [
    "from sklearn.metrics import precision_recall_curve\n",
    "\n",
    "def max_precision(y, y_pred, recall_treshold=0.7):\n",
    "    precision, recall, thresholds = precision_recall_curve(y, y_pred)\n",
    "    #thresholds = np.hstack((thresholds, [1.0]))    \n",
    "    print(len(precision), len(recall),len(thresholds))\n",
    "    data = np.column_stack((precision[:len(thresholds)], recall[:len(thresholds)], thresholds))\n",
    "    data = data[data[:,1] > 0.7]\n",
    "    row = data[np.argmax(data[:,0])]\n",
    "    print(row)\n",
    "    return row[0]\n",
    "\n",
    "precisions = [max_precision(scores.true, scores.score_logreg),\n",
    "              max_precision(scores.true, scores.score_svm),\n",
    "              max_precision(scores.true, scores.score_knn),\n",
    "              max_precision(scores.true, scores.score_tree)]\n",
    "ans4 = scores.columns[np.argmax(precisions) + 1]\n",
    "with open('q4.txt', 'w') as f:\n",
    "    f.write(ans4)    \n",
    "ans4"
   ]
  }
 ],
 "metadata": {
  "kernelspec": {
   "display_name": "Python 3",
   "language": "python",
   "name": "python3"
  },
  "language_info": {
   "codemirror_mode": {
    "name": "ipython",
    "version": 3
   },
   "file_extension": ".py",
   "mimetype": "text/x-python",
   "name": "python",
   "nbconvert_exporter": "python",
   "pygments_lexer": "ipython3",
   "version": "3.5.1"
  }
 },
 "nbformat": 4,
 "nbformat_minor": 0
}
