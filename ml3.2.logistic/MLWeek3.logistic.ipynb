{
 "cells": [
  {
   "cell_type": "code",
   "execution_count": 243,
   "metadata": {
    "collapsed": true
   },
   "outputs": [],
   "source": [
    "import numpy as np\n",
    "import pandas as pd\n",
    "from sklearn.metrics import roc_auc_score\n",
    "\n",
    "data = pd.read_csv('logistic.csv', header=None)\n",
    "y = data.loc[:,0].values\n",
    "X = data.loc[:,1:].values"
   ]
  },
  {
   "cell_type": "code",
   "execution_count": 244,
   "metadata": {
    "collapsed": false
   },
   "outputs": [
    {
     "name": "stdout",
     "output_type": "stream",
     "text": [
      "[1] Error: 0.04827393845390722\n",
      "[2] Error: 0.03507940465569507\n",
      "[3] Error: 0.026903330054023955\n",
      "[4] Error: 0.02159360872862849\n",
      "[5] Error: 0.017858691411466173\n",
      "[6] Error: 0.015068519618666192\n",
      "[7] Error: 0.012895969104778528\n",
      "[8] Error: 0.011155147129940403\n",
      "[9] Error: 0.009731656226247186\n",
      "[10] Error: 0.008550374904120235\n",
      "[244] Estimated error: 9.802349781627123e-06\n",
      "Estimated weights: [ 0.28781162  0.0919833 ]\n",
      "[1] Error: 0.04827393845390722\n",
      "[2] Error: 0.01325878033269937\n",
      "[3] Error: 0.0034901897574214913\n",
      "[4] Error: 0.0009357171435694874\n",
      "[8] Estimated error: 4.763189139553073e-06\n",
      "Estimated weights: [ 0.02855875  0.02478014]\n"
     ]
    }
   ],
   "source": [
    "def logistic_grad(X, y, k=0.1, e=1e-5, C=0.0, max_iter=1000, verbose=True):\n",
    "    def grad_step(X,y,w,C,k):\n",
    "        s = np.zeros(X.shape[1])\n",
    "        for i in range(X.shape[0]):                                                \n",
    "            s += y[i] * X[i] * (1.0 - 1.0 / (1.0 + np.exp(-y[i] * (w * X[i]).sum())))               \n",
    "        return w + (k / X.shape[0]) * s - k * C * w\n",
    "        \n",
    "    w = np.zeros(X.shape[1], dtype=float)\n",
    "    w_old = w\n",
    "    err = np.inf\n",
    "    iteration = 0\n",
    "    \n",
    "    while err > e and iteration < max_iter:                \n",
    "        w = grad_step1(X,y,w_old,C,k)        \n",
    "        iteration += 1        \n",
    "        #err_n = np.sqrt(np.mean((w-w_old)**2)) # rmse             \n",
    "        #err_n = np.mean((w-w_old)**2) # mse\n",
    "        err_n = np.linalg.norm(w-w_old) #err_n = np.sqrt(np.sum((w-w_old)**2)) # euclidian        \n",
    "        if verbose and np.abs(err_n - err) > e * 100:            \n",
    "            print('[{}] Error: {}'.format(iteration, err_n))    \n",
    "        err = err_n\n",
    "        w_old = w\n",
    "    if verbose:\n",
    "        print('[{}] Estimated error: {}'.format(iteration, err))\n",
    "        print('Estimated weights: {}'.format(w))\n",
    "    return w\n",
    "\n",
    "w_without_reg = logistic_grad(X, y, C=0.0)\n",
    "w_with_reg = logistic_grad(X, y, C=10.0)"
   ]
  },
  {
   "cell_type": "code",
   "execution_count": 245,
   "metadata": {
    "collapsed": false
   },
   "outputs": [
    {
     "name": "stdout",
     "output_type": "stream",
     "text": [
      "without reg\n",
      "0.926857142857\n",
      "with reg\n",
      "0.936285714286\n"
     ]
    }
   ],
   "source": [
    "def sigma(x):\n",
    "    return 1.0 / (1.0 + np.exp(-x))\n",
    "\n",
    "print('without reg')\n",
    "print(roc_auc_score(y, sigma(X.dot(w_without_reg))))\n",
    "\n",
    "print('with reg')\n",
    "print(roc_auc_score(y, sigma(X.dot(w_with_reg))))"
   ]
  },
  {
   "cell_type": "code",
   "execution_count": null,
   "metadata": {
    "collapsed": true
   },
   "outputs": [],
   "source": []
  }
 ],
 "metadata": {
  "kernelspec": {
   "display_name": "Python 3",
   "language": "python",
   "name": "python3"
  },
  "language_info": {
   "codemirror_mode": {
    "name": "ipython",
    "version": 3
   },
   "file_extension": ".py",
   "mimetype": "text/x-python",
   "name": "python",
   "nbconvert_exporter": "python",
   "pygments_lexer": "ipython3",
   "version": "3.5.1"
  }
 },
 "nbformat": 4,
 "nbformat_minor": 0
}
