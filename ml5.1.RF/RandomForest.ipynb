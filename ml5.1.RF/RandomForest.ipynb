{
 "cells": [
  {
   "cell_type": "code",
   "execution_count": 61,
   "metadata": {
    "collapsed": false
   },
   "outputs": [],
   "source": [
    "%matplotlib inline\n",
    "import matplotlib.pyplot as plt\n",
    "import numpy as np\n",
    "import pandas as pd\n",
    "from sklearn.ensemble import RandomForestRegressor\n",
    "from sklearn.metrics import r2_score\n",
    "from sklearn.model_selection import KFold\n",
    "from sklearn.model_selection import cross_val_score"
   ]
  },
  {
   "cell_type": "code",
   "execution_count": 55,
   "metadata": {
    "collapsed": false
   },
   "outputs": [
    {
     "name": "stdout",
     "output_type": "stream",
     "text": [
      "Index(['Sex', 'Length', 'Diameter', 'Height', 'WholeWeight', 'ShuckedWeight',\n",
      "       'VisceraWeight', 'ShellWeight', 'Rings'],\n",
      "      dtype='object')\n"
     ]
    }
   ],
   "source": [
    "data = pd.read_csv('abalone.csv')\n",
    "data['Sex'] = data['Sex'].map(lambda x: 1 if x == 'M' else (-1 if x == 'F' else 0))\n",
    "print(data.columns)\n",
    "\n",
    "X = data.loc[:,['Sex', 'Length', 'Diameter', 'Height', 'WholeWeight', 'ShuckedWeight', 'VisceraWeight', 'ShellWeight']].values\n",
    "y = data.loc[:,'Rings'].values"
   ]
  },
  {
   "cell_type": "code",
   "execution_count": 80,
   "metadata": {
    "collapsed": false
   },
   "outputs": [
    {
     "name": "stdout",
     "output_type": "stream",
     "text": [
      "Trees: 30 for score 0.521484\n"
     ]
    }
   ],
   "source": [
    "def min_rf_estimator(X, y, estimators_min=1, estimators_max=50, n_folds=5, threshold=0.52, scoring='r2'):\n",
    "    for i in range(estimators_min, estimators_max):\n",
    "        clf = RandomForestRegressor(n_estimators=i, random_state=1)        \n",
    "        scores = cross_val_score(clf, X, y, cv=n_folds, scoring=scoring)        \n",
    "        if scores.max() > threshold:\n",
    "            print(\"Trees: %d for score %f\" % (i, scores.max()))\n",
    "            return clf, i, scores                   \n",
    "\n",
    "clf, estimators, scores = min_rf_estimator(X, y)\n",
    "with open('answer.txt', 'w') as file:\n",
    "    file.write(\"%d\" % estimators)"
   ]
  }
 ],
 "metadata": {
  "kernelspec": {
   "display_name": "Python 3",
   "language": "python",
   "name": "python3"
  },
  "language_info": {
   "codemirror_mode": {
    "name": "ipython",
    "version": 3
   },
   "file_extension": ".py",
   "mimetype": "text/x-python",
   "name": "python",
   "nbconvert_exporter": "python",
   "pygments_lexer": "ipython3",
   "version": "3.5.1"
  }
 },
 "nbformat": 4,
 "nbformat_minor": 0
}
