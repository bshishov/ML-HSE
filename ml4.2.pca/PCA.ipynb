{
 "cells": [
  {
   "cell_type": "code",
   "execution_count": 85,
   "metadata": {
    "collapsed": true
   },
   "outputs": [],
   "source": [
    "import numpy as np\n",
    "import pandas as pd\n",
    "from sklearn import decomposition"
   ]
  },
  {
   "cell_type": "code",
   "execution_count": 86,
   "metadata": {
    "collapsed": false
   },
   "outputs": [],
   "source": [
    "djia = pd.read_csv('djia_index.csv').ix[:,1].values\n",
    "prices_data = pd.read_csv('close_prices.csv')\n",
    "prices = prices_data.ix[:,1:].values"
   ]
  },
  {
   "cell_type": "code",
   "execution_count": 111,
   "metadata": {
    "collapsed": false
   },
   "outputs": [
    {
     "data": {
      "text/plain": [
       "4"
      ]
     },
     "execution_count": 111,
     "metadata": {},
     "output_type": "execute_result"
    }
   ],
   "source": [
    "def estimate_n_components(X,  target=0.9):\n",
    "    pca = decomposition.PCA(n_components=X.shape[1])\n",
    "    pca.fit_transform(X)\n",
    "    sumvariance = 0\n",
    "    for i in range(pca.n_components):            \n",
    "        sumvariance += pca.explained_variance_ratio_[i]\n",
    "        if sumvariance > target:\n",
    "            return i + 1\n",
    "    return pca.n_components\n",
    "\n",
    "answer1 = estimate_n_components(prices)\n",
    "\n",
    "with open('answer1.txt', 'w') as f:\n",
    "    f.write(str(answer1))\n",
    "\n",
    "answer1"
   ]
  },
  {
   "cell_type": "code",
   "execution_count": 90,
   "metadata": {
    "collapsed": false
   },
   "outputs": [
    {
     "data": {
      "text/plain": [
       "'0.91'"
      ]
     },
     "execution_count": 90,
     "metadata": {},
     "output_type": "execute_result"
    }
   ],
   "source": [
    "pca = decomposition.PCA(n_components=10)\n",
    "prices_c0 = pca.fit_transform(prices)[:,0]\n",
    "corr = np.corrcoef(prices_c0, djia)[0, 1]\n",
    "\n",
    "answer2 = \"%.2f\" % corr\n",
    "\n",
    "with open('answer2.txt', 'w') as f:\n",
    "    f.write(answer2)\n",
    "    \n",
    "answer2"
   ]
  },
  {
   "cell_type": "code",
   "execution_count": 106,
   "metadata": {
    "collapsed": false
   },
   "outputs": [
    {
     "data": {
      "text/plain": [
       "'V'"
      ]
     },
     "execution_count": 106,
     "metadata": {},
     "output_type": "execute_result"
    }
   ],
   "source": [
    "answer3 = prices_data.columns[pca.components_[0].argmax() + 1]\n",
    "\n",
    "with open('answer3.txt', 'w') as f:\n",
    "    f.write(answer3)\n",
    "    \n",
    "answer3"
   ]
  },
  {
   "cell_type": "code",
   "execution_count": 107,
   "metadata": {
    "collapsed": false
   },
   "outputs": [
    {
     "data": {
      "text/plain": [
       "array([ 0.73897118,  0.11007169,  0.04995088,  0.0287492 ,  0.02215448,\n",
       "        0.01931577,  0.00674853,  0.00614091,  0.00320594,  0.00305611])"
      ]
     },
     "execution_count": 107,
     "metadata": {},
     "output_type": "execute_result"
    }
   ],
   "source": [
    "pca.explained_variance_ratio_"
   ]
  },
  {
   "cell_type": "code",
   "execution_count": null,
   "metadata": {
    "collapsed": true
   },
   "outputs": [],
   "source": []
  }
 ],
 "metadata": {
  "kernelspec": {
   "display_name": "Python 3",
   "language": "python",
   "name": "python3"
  },
  "language_info": {
   "codemirror_mode": {
    "name": "ipython",
    "version": 3
   },
   "file_extension": ".py",
   "mimetype": "text/x-python",
   "name": "python",
   "nbconvert_exporter": "python",
   "pygments_lexer": "ipython3",
   "version": "3.5.1"
  }
 },
 "nbformat": 4,
 "nbformat_minor": 0
}
